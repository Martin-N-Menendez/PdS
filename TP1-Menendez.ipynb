{
 "cells": [
  {
   "cell_type": "markdown",
   "metadata": {},
   "source": [
    "<img src=\"./fiuba.jpg\" align=\"right\" width=\"150\" /> \n",
    "#### Procesamiento Digital de Señales\n",
    "\n",
    "# Trabajo Práctico 1\n",
    "#### Martin Nicolas Menendez\n",
    "\n",
    "***\n",
    "## Muestreo de señales - Fourier\n"
   ]
  },
  {
   "cell_type": "markdown",
   "metadata": {},
   "source": [
    "<div class=\"alert alert-block alert-info\">\n",
    "<b>1)</b> Se busca realizar una librería en Python que nos permita obtener $N$ muestras de las siguientes señales de período $T_0=1/f_0$, muestreadas a una frecuencia $f_s$ :\n",
    "\n",
    "</div>"
   ]
  },
  {
   "cell_type": "markdown",
   "metadata": {
    "solution": "shown"
   },
   "source": [
    "\n",
    "+ **Senoidal**\n",
    "\n",
    "> $s(k)=A_0.sin((2\\pi.f_0 + \\phi_0).k/f_s),\\space\\space \\forall k \\in \\Bbb{Z} \\wedge k \\in (0, N-1)$\n",
    "\n",
    "+ __Ruido__ incorrelado de distribución Gaussiana y parámetros $\\mu$ y $\\sigma^2$\n",
    "\n",
    "***\n",
    "\n",
    "+ (Opcional) __Cuadrada__ con ciclo de actividad $d \\in (0,1)$\n",
    "\n",
    "> $s(k)=A_0,\\space\\space \\forall k \\in (0, N.d ]$ \n",
    "\n",
    "> $s(k)=-A_0,\\space \\forall k \\in (N.d, N-1)$\n",
    "\n",
    "+ (Opcional) __Triangular__ con punto de simetría $d \\in (0,1)$ y coeficientes $a_{ij} \\in \\Bbb{R}$\n",
    "\n",
    "> $s(k)=a_{11}.k/f_s+a_{12},\\space\\space \\forall k \\in (0, N.d ]$ \n",
    "\n",
    "> $s(k)=a_{21}.k/f_s+a_{22},\\space \\forall k \\in (N.d, N-1)$\n"
   ]
  },
  {
   "cell_type": "markdown",
   "metadata": {},
   "source": [
    "Es decir que se podría invocar la señal que genere la senoidal de la siguiente manera:\n"
   ]
  },
  {
   "cell_type": "code",
   "execution_count": 2,
   "metadata": {},
   "outputs": [],
   "source": [
    "\n",
    "def generador_senoidal (fs, f0, N, a0, p0):\n",
    "    \"\"\" \n",
    "    \n",
    "    brief:  Generador de señales senoidal, con argumentos\n",
    "    \n",
    "    fs:     frecuencia de muestreo de la señal [Hz]\n",
    "    N:      cantidad de muestras de la señal a generar\n",
    "    f0:     frecuencia de la senoidal [Hz]\n",
    "    a0:     amplitud pico de la señal [V]\n",
    "    p0:     fase de la señal sinusoidal [rad]\n",
    "    \n",
    "    como resultado la señal devuelve:\n",
    "    \n",
    "    signal: senoidal evaluada en cada instante \n",
    "    tt:     base de tiempo de la señal\n",
    "    \"\"\"    \n",
    "\n",
    "    # comienzo de la función\n",
    "\n",
    "    ts = 1/fs # tiempo de muestreo\n",
    "  \n",
    "    tt = np.linspace(0, (N-1)*ts, N).flatten()   # grilla de sampleo \n",
    "\n",
    "    \n",
    "    signal = a0 * np.sin(2*np.pi*f0 * tt + p0)\n",
    "    \n",
    "    # fin de la función\n",
    "    \n",
    "    return tt, signal\n"
   ]
  },
  {
   "cell_type": "markdown",
   "metadata": {},
   "source": [
    "a) Genere las gráficas asociadas a las siguientes señales de ejemplo para corroborar el correcto funcionamiento de las funciones. Para la presentación de las mismas, tome como referencia la presentación de la siguiente señal respecto a:\n",
    "\n",
    "* etiquetas indicando cada eje con sus respectivas unidades\n",
    "* leyendas indicando cada trazo o color qué representa\n",
    "* título de la figura que explique lo que se pretende visualizar\n",
    "\n",
    "\n",
    "<img src=\"./fig_ejemplo.svg\" align=\"center\" width=\"100%\" /> \n",
    "<img src=\"./fig_ejemplo2.svg\" align=\"center\" width=\"70%\" /> "
   ]
  },
  {
   "cell_type": "code",
   "execution_count": 3,
   "metadata": {},
   "outputs": [],
   "source": [
    "import numpy as np\n",
    "import matplotlib as mpl\n",
    "import matplotlib.pyplot as plt\n",
    "import time\n",
    "import scipy.fftpack as sc\n",
    "\n",
    "# Insertar aquí el código para inicializar tu notebook\n",
    "########################################################\n",
    "def generador_senoidal (fs, f0, N, a0, p0):\n",
    "    \"\"\" \n",
    "    \n",
    "    brief:  Generador de señales senoidal, con argumentos\n",
    "    \n",
    "    fs:     frecuencia de muestreo de la señal [Hz]\n",
    "    N:      cantidad de muestras de la señal a generar\n",
    "    f0:     frecuencia de la senoidal [Hz]\n",
    "    a0:     amplitud pico de la señal [V]\n",
    "    p0:     fase de la señal sinusoidal [rad]\n",
    "    \n",
    "    como resultado la señal devuelve:\n",
    "    \n",
    "    signal: senoidal evaluada en cada instante \n",
    "    tt:     base de tiempo de la señal\n",
    "    \"\"\"    \n",
    "\n",
    "    # comienzo de la función\n",
    "\n",
    "    ts = 1/fs # tiempo de muestreo\n",
    "    df = fs/N # resolución espectral\n",
    "        \n",
    "    tt = np.linspace(0, (N-1)*ts, N).flatten()   # grilla de sampleo \n",
    "    ff = np.linspace(0, (N-1)*df, N).flatten()\n",
    "    \n",
    "    signal = a0 * np.sin(2*np.pi*f0 * tt + p0)\n",
    "    \n",
    "    # fin de la función\n",
    "    \n",
    "    return ff, tt, signal"
   ]
  },
  {
   "cell_type": "code",
   "execution_count": 4,
   "metadata": {},
   "outputs": [],
   "source": [
    "# NO modifiques este bloque\n",
    "############################\n",
    "\n",
    "N  = 1000 # muestras\n",
    "fs = 1000 # Hz\n"
   ]
  },
  {
   "cell_type": "code",
   "execution_count": 5,
   "metadata": {
    "scrolled": true
   },
   "outputs": [
    {
     "data": {
      "image/png": "[encoded data removed]",
      "text/plain": [
       "<Figure size 432x288 with 1 Axes>"
      ]
     },
     "metadata": {
      "needs_background": "light"
     },
     "output_type": "display_data"
    }
   ],
   "source": [
    "##################\n",
    "# a.1) Senoidal #\n",
    "#################\n",
    "\n",
    "a0 = 1 # Volts\n",
    "p0 = 0 # radianes\n",
    "f0 = 10   # Hz\n",
    "\n",
    "# Insertar aquí el código para generar y visualizar la señal\n",
    "##############################################################\n",
    "leyenda = str(f0) + ' Hz'\n",
    "\n",
    "[ff,tt,signal] = generador_senoidal (fs, f0, N, a0, p0)\n",
    "\n",
    "\n",
    "plt.figure(1)\n",
    "line_hdls = plt.plot(tt, signal)\n",
    "plt.title('Señal: ' + 'Senoidal ' + leyenda )\n",
    "plt.xlabel('tiempo [segundos]')\n",
    "plt.ylabel('Amplitud [V]')\n",
    "#    plt.grid(which='both', axis='both')\n",
    "    \n",
    "# presentar una leyenda para cada tipo de señal\n",
    "axes_hdl = plt.gca()\n",
    "\n",
    "# este tipo de sintaxis es *MUY* de Python\n",
    "#axes_hdl.legend(line_hdls, leyenda , loc='upper right'  )\n",
    "  \n",
    "plt.show()"
   ]
  },
  {
   "cell_type": "markdown",
   "metadata": {},
   "source": [
    "¿Podría inferir la frecuencia de la senoidal a.1 a partir de su representación temporal?\n"
   ]
  },
  {
   "cell_type": "markdown",
   "metadata": {},
   "source": [
    "<div class=\"alert alert-block alert-warning\">\n",
    "<b>Respuesta:</b> La senoidal a.1 tiene una frecuencia de 10 Hz al tener 10 ciclos en 1 segundo.\n",
    "</div>"
   ]
  },
  {
   "cell_type": "code",
   "execution_count": 6,
   "metadata": {},
   "outputs": [
    {
     "data": {
      "image/png": "[encoded data removed]",
      "text/plain": [
       "<Figure size 432x288 with 1 Axes>"
      ]
     },
     "metadata": {
      "needs_background": "light"
     },
     "output_type": "display_data"
    }
   ],
   "source": [
    "##################\n",
    "# a.2) Senoidal #\n",
    "#################\n",
    "\n",
    "a0 = 1 # Volts\n",
    "p0 = 0 # radianes\n",
    "f0 = fs/2   # Hz\n",
    "\n",
    "# Insertar aquí el código para generar y visualizar la señal\n",
    "##############################################################\n",
    "leyenda = str(f0) + ' Hz'\n",
    "\n",
    "[ff,tt,signal] = generador_senoidal (fs, f0, N, a0, p0)\n",
    "\n",
    "\n",
    "plt.figure(1)\n",
    "line_hdls = plt.plot(tt, signal)\n",
    "plt.title('Señal: ' + 'Senoidal ' + leyenda )\n",
    "plt.xlabel('tiempo [segundos]')\n",
    "plt.ylabel('Amplitud [V]')\n",
    "#    plt.grid(which='both', axis='both')\n",
    "    \n",
    "# presentar una leyenda para cada tipo de señal\n",
    "axes_hdl = plt.gca()\n",
    "\n",
    "    \n",
    "# este tipo de sintaxis es *MUY* de Python\n",
    "#axes_hdl.legend(line_hdls, leyenda , loc='upper right'  )\n",
    "  \n",
    "plt.show()"
   ]
  },
  {
   "cell_type": "code",
   "execution_count": 7,
   "metadata": {},
   "outputs": [
    {
     "data": {
      "image/png": "[encoded data removed]",
      "text/plain": [
       "<Figure size 432x288 with 1 Axes>"
      ]
     },
     "metadata": {
      "needs_background": "light"
     },
     "output_type": "display_data"
    }
   ],
   "source": [
    "##################\n",
    "# a.3) Senoidal #\n",
    "#################\n",
    "\n",
    "a0 = 1       # Volts\n",
    "p0 = np.pi/2 # radianes\n",
    "f0 = fs/2    # Hz\n",
    "\n",
    "# Insertar aquí el código para generar y visualizar la señal\n",
    "##############################################################\n",
    "leyenda = str(f0) + ' Hz'\n",
    "\n",
    "[ff,tt,signal] = generador_senoidal (fs, f0, N, a0, p0)\n",
    "\n",
    "\n",
    "plt.figure(1)\n",
    "line_hdls = plt.plot(tt, signal)\n",
    "plt.title('Señal: ' + 'Senoidal ' + leyenda )\n",
    "plt.xlabel('tiempo [segundos]')\n",
    "plt.ylabel('Amplitud [V]')\n",
    "#    plt.grid(which='both', axis='both')\n",
    "    \n",
    "# presentar una leyenda para cada tipo de señal\n",
    "axes_hdl = plt.gca()\n",
    "\n",
    "    \n",
    "# este tipo de sintaxis es *MUY* de Python\n",
    "#axes_hdl.legend(line_hdls, leyenda , loc='upper right'  )\n",
    "  \n",
    "plt.show()"
   ]
  },
  {
   "cell_type": "markdown",
   "metadata": {},
   "source": [
    "¿Y para los casos **a.2** y **a.3** podría conocer los parámetros de la senoidal?"
   ]
  },
  {
   "cell_type": "markdown",
   "metadata": {},
   "source": [
    "<div class=\"alert alert-block alert-warning\">\n",
    "<b>Respuesta:</b> No, no es posible conocer los parámetros de la senoidal solamente con el gráfico\n",
    "</div>"
   ]
  },
  {
   "cell_type": "markdown",
   "metadata": {},
   "source": [
    "¿A qué se debe?"
   ]
  },
  {
   "cell_type": "markdown",
   "metadata": {},
   "source": [
    "<div class=\"alert alert-block alert-warning\">\n",
    "<b>Respuesta:</b> En el caso a.2 estoy sub-muestreando sobre los ceros de la señal y la representación de esos \"ceros\" se va corriendo, debido a la aproximación numérica de Pi de forma incremental.\n",
    "    \n",
    "   En el caso de a.3 estoy sub-muestreando sobre los máximos de la señal y veo solamente +1 y -1, el python interpola entre ambos puntos y parecen lineas verticales cons\n",
    "</div>"
   ]
  },
  {
   "cell_type": "code",
   "execution_count": 8,
   "metadata": {},
   "outputs": [
    {
     "data": {
      "image/png": "[encoded data removed]",
      "text/plain": [
       "<Figure size 432x288 with 1 Axes>"
      ]
     },
     "metadata": {
      "needs_background": "light"
     },
     "output_type": "display_data"
    }
   ],
   "source": [
    "##################\n",
    "# a.4) Senoidal #\n",
    "#################\n",
    "\n",
    "a0 = 1     # Volts\n",
    "p0 = 0     # radianes\n",
    "f0 = fs+10 # Hz\n",
    "\n",
    "# Insertar aquí el código para generar y visualizar la señal\n",
    "##############################################################\n",
    "leyenda = str(f0) + ' Hz'\n",
    "\n",
    "[ff,tt,signal] = generador_senoidal (fs, f0, N, a0, p0 )\n",
    "\n",
    "\n",
    "plt.figure(1)\n",
    "\n",
    "#plt.stem(tt,signal, 'r', )\n",
    "\n",
    "line_hdls = plt.plot(tt, signal)\n",
    "plt.title('Señal: ' + 'Senoidal ' + leyenda )\n",
    "plt.xlabel('tiempo [segundos]')\n",
    "plt.ylabel('Amplitud [V]')\n",
    "#    plt.grid(which='both', axis='both')\n",
    "    \n",
    "# presentar una leyenda para cada tipo de señal\n",
    "axes_hdl = plt.gca()\n",
    "\n",
    "    \n",
    "# este tipo de sintaxis es *MUY* de Python\n",
    "#axes_hdl.legend(line_hdls, leyenda , loc='upper right'  )\n",
    "  \n",
    "plt.show()\n"
   ]
  },
  {
   "cell_type": "markdown",
   "metadata": {},
   "source": [
    "¿Es posible diferenciar **a.1** de **a.4** a partir de las gráficas?"
   ]
  },
  {
   "cell_type": "markdown",
   "metadata": {},
   "source": [
    "<div class=\"alert alert-block alert-warning\">\n",
    "<b>Respuesta:</b> No, no es posible.\n",
    "</div>"
   ]
  },
  {
   "cell_type": "markdown",
   "metadata": {},
   "source": [
    "¿En caso que no, qué solución podría implementar para evitar dicha ambigüedad?"
   ]
  },
  {
   "cell_type": "markdown",
   "metadata": {},
   "source": [
    "<div class=\"alert alert-block alert-warning\">\n",
    "<b>Respuesta:</b> Subir la frecuencia de muestreo o especificar con texto la frecuencia seteada en la leyenda o titulo.\n",
    "</div>\n"
   ]
  },
  {
   "cell_type": "markdown",
   "metadata": {},
   "source": [
    "<div class=\"alert alert-block alert-info\">\n",
    "<b>2.a)</b> (Opcional) Implemente un algoritmo que calcule la transformada discreta de Fourier (DFT). Utilice las funciones generadoras de señales de 1) para evaluar y ejemplificar su funcionamiento.\n",
    "</div>"
   ]
  },
  {
   "cell_type": "code",
   "execution_count": 9,
   "metadata": {},
   "outputs": [
    {
     "data": {
      "image/png": "[encoded data removed]",
      "text/plain": [
       "<Figure size 432x288 with 1 Axes>"
      ]
     },
     "metadata": {
      "needs_background": "light"
     },
     "output_type": "display_data"
    },
    {
     "data": {
      "image/png": "[encoded data removed]",
      "text/plain": [
       "<Figure size 432x288 with 1 Axes>"
      ]
     },
     "metadata": {
      "needs_background": "light"
     },
     "output_type": "display_data"
    }
   ],
   "source": [
    "#%%\n",
    "def dft(x):\n",
    "    x = np.asarray(x, dtype=float)              # Convertir señal a vector\n",
    "    N = x.shape[0]\n",
    "    \n",
    "    x_dft = np.zeros((N,1))\n",
    "    \n",
    "    n = np.arange(N)\n",
    "    #k = n.reshape((N, 1))\n",
    "    \n",
    "    for i in n:\n",
    "        sumreal = 0;\n",
    "        sumimg = 0;\n",
    "        for j in n:\n",
    "            angle = 2 * np.pi * j * i / N\n",
    "            sumreal += x[j]*np.cos(angle)\n",
    "            sumimg += -x[j]*np.sin(angle)\n",
    "            \n",
    "        x_dft[i] = np.sqrt(sumreal**2+sumimg**2)\n",
    "    \n",
    "    #M = np.exp(-2j * np.pi * k * n / N)\n",
    "    \n",
    "    return x_dft\n",
    "\n",
    "#%%%   \n",
    "\n",
    "\n",
    "#%%%         \n",
    "\n",
    "a0 = 1     # Volts\n",
    "p0 = 0     # radianes\n",
    "f0 = 10 # Hz\n",
    "    \n",
    "leyenda = str(f0) + ' Hz'\n",
    "\n",
    "[ff,tt,senal] = generador_senoidal (fs, f0, N, a0, p0 )\n",
    "\n",
    "frec = np.linspace(0.0,fs/2,N//2)\n",
    "\n",
    "\n",
    "senal_dft = (2/N)*dft(senal)\n",
    "half_senal_dft = senal_dft[:N//2]\n",
    "\n",
    "plt.figure(4)\n",
    "plt.plot(frec,half_senal_dft)\n",
    "plt.title('Señal: ' + 'DFT ')\n",
    "plt.xlabel('frecuencia [Hz]')\n",
    "plt.ylabel('Amplitud [V]') \n",
    "plt.show()\n",
    "\n",
    "senal_fft = (2/N)*np.abs(sc.fft(senal))\n",
    "half_senal_fft = senal_fft[:N//2]\n",
    "\n",
    "plt.figure(5)\n",
    "plt.plot(frec,half_senal_fft)\n",
    "plt.title('Señal: ' + 'FFT ')\n",
    "plt.xlabel('frecuencia [Hz]')\n",
    "plt.ylabel('Amplitud [V]') \n",
    "plt.show()\n",
    "\n",
    "iguales = np.allclose(dft(senal), sc.fft(senal))"
   ]
  },
  {
   "cell_type": "markdown",
   "metadata": {},
   "source": [
    "<div class=\"alert alert-block alert-info\">\n",
    "<b>2.b)</b> (Opcional) Compare el tiempo de ejecución de la DFT implementada en con la **FFT** (implementada en **scipy.signal**) en función del tamaño de la señal N. Grafique el tiempo de ejecución de ambos casos en función de N.\n",
    "</div>"
   ]
  },
  {
   "cell_type": "code",
   "execution_count": 10,
   "metadata": {},
   "outputs": [
    {
     "data": {
      "image/png": "[encoded data removed]",
      "text/plain": [
       "<Figure size 432x288 with 1 Axes>"
      ]
     },
     "metadata": {
      "needs_background": "light"
     },
     "output_type": "display_data"
    }
   ],
   "source": [
    "import scipy.fftpack as sc\n",
    "\n",
    "def comparar_DFT_FFT(index):\n",
    "\n",
    "    L = len(index)\n",
    "\n",
    "    t_dft = np.zeros((L,1))\n",
    "    t_fft = np.zeros((L,1))\n",
    "    \n",
    "    j = 0\n",
    "    for i in index:\n",
    "        #x = np.random.random(i)\n",
    "       \n",
    "        [ff,tt,senal] = generador_senoidal (1000, 100, i, 1, 0)\n",
    "        \n",
    "        dft_start = time.process_time_ns() \n",
    "        (2/N)*dft(senal)\n",
    "        dft_end = time.process_time_ns() \n",
    "        t_dft[j] = dft_end-dft_start\n",
    "        \n",
    "\n",
    "        fft_start = time.process_time_ns()\n",
    "        (2/N)*np.abs(sc.fft(senal))\n",
    "        fft_end = time.process_time_ns() \n",
    "        t_fft[j] = fft_end-fft_start     \n",
    "        j += 1\n",
    "\n",
    "    return t_dft,t_fft\n",
    "\n",
    "#%%\n",
    "index = [16, 32, 64, 128, 256, 512, 1024, 2048]\n",
    "\n",
    "[c_dft,c_fft] = comparar_DFT_FFT(index);\n",
    "\n",
    "plt.figure(6)\n",
    "\n",
    "c_dft=c_dft/1e9\n",
    "\n",
    "plt.plot(index,c_fft,'-*r',label='FFT')\n",
    "plt.plot(index,c_dft/1e9,'-*b',label='DFT')\n",
    "\n",
    "plt.title('Comparacion')\n",
    "plt.ylabel('tiempo [segundos]')\n",
    "plt.xlabel('Tamaño [N]')\n",
    "\n",
    "plt.legend(fontsize='xx-large', ncol=1)\n",
    "\n",
    "plt.show()"
   ]
  },
  {
   "cell_type": "markdown",
   "metadata": {},
   "source": [
    "<div class=\"alert alert-block alert-success\">\n",
    "<b>Ayuda:</b> Utilice el módulo **timeit** para medir el tiempo transcurrido.\n",
    "</div>"
   ]
  },
  {
   "cell_type": "code",
   "execution_count": 11,
   "metadata": {},
   "outputs": [
    {
     "name": "stdout",
     "output_type": "stream",
     "text": [
      "hello\n",
      "0\n"
     ]
    }
   ],
   "source": [
    "import time\n",
    "\n",
    "the_start = time.process_time_ns() \n",
    "print(\"hello\")\n",
    "the_end = time.process_time_ns() \n",
    "print(the_start - the_end)\n",
    "\n",
    "#import time en ns\n"
   ]
  },
  {
   "cell_type": "markdown",
   "metadata": {},
   "source": [
    "<div class=\"alert alert-block alert-danger\">\n",
    "<b>¡Atención!:</b> Completá la siguiente tabla. Podés guardar tus resultados en la lista **tus_resultados**.\n",
    "</div>"
   ]
  },
  {
   "cell_type": "code",
   "execution_count": 12,
   "metadata": {
    "scrolled": true
   },
   "outputs": [
    {
     "data": {
      "text/html": [
       "<table border=\"1\" class=\"dataframe\">\n",
       "  <thead>\n",
       "    <tr style=\"text-align: right;\">\n",
       "      <th></th>\n",
       "      <th>tiempo transcurrido (s)</th>\n",
       "      <th></th>\n",
       "    </tr>\n",
       "  </thead>\n",
       "  <tbody>\n",
       "    <tr>\n",
       "      <th>Tamaño de la señal N</th>\n",
       "      <td>DFT</td>\n",
       "      <td>FFT</td>\n",
       "    </tr>\n",
       "    <tr>\n",
       "      <th>16</th>\n",
       "      <td>0.0</td>\n",
       "      <td>0.0</td>\n",
       "    </tr>\n",
       "    <tr>\n",
       "      <th>32</th>\n",
       "      <td>0.015625</td>\n",
       "      <td>0.0</td>\n",
       "    </tr>\n",
       "    <tr>\n",
       "      <th>64</th>\n",
       "      <td>0.046875</td>\n",
       "      <td>0.0</td>\n",
       "    </tr>\n",
       "    <tr>\n",
       "      <th>128</th>\n",
       "      <td>0.171875</td>\n",
       "      <td>0.0</td>\n",
       "    </tr>\n",
       "    <tr>\n",
       "      <th>256</th>\n",
       "      <td>0.75</td>\n",
       "      <td>0.0</td>\n",
       "    </tr>\n",
       "    <tr>\n",
       "      <th>512</th>\n",
       "      <td>2.890625</td>\n",
       "      <td>0.0</td>\n",
       "    </tr>\n",
       "    <tr>\n",
       "      <th>1024</th>\n",
       "      <td>13.21875</td>\n",
       "      <td>0.0</td>\n",
       "    </tr>\n",
       "    <tr>\n",
       "      <th>2048</th>\n",
       "      <td>56.75</td>\n",
       "      <td>0.0</td>\n",
       "    </tr>\n",
       "  </tbody>\n",
       "</table>"
      ],
      "text/plain": [
       "<IPython.core.display.HTML object>"
      ]
     },
     "execution_count": 12,
     "metadata": {},
     "output_type": "execute_result"
    }
   ],
   "source": [
    "from pandas import DataFrame\n",
    "from IPython.display import HTML\n",
    "\n",
    "#######################################\n",
    "# Tu simulación que genere resultados #\n",
    "#######################################\n",
    "\n",
    "resultados = [ ['DFT','FFT'], \n",
    "                   [str(c_dft[0][0]),str(c_fft[0][0])], # <-- acá debería haber numeritos :)\n",
    "                   [str(c_dft[1][0]),str(c_fft[1][0])], # <-- acá debería haber numeritos :)\n",
    "                   [str(c_dft[2][0]),str(c_fft[2][0])], # <-- acá debería haber numeritos :)\n",
    "                   [str(c_dft[3][0]),str(c_fft[3][0])], # <-- acá debería haber numeritos :)\n",
    "                   [str(c_dft[4][0]),str(c_fft[4][0])], # <-- acá debería haber numeritos :)\n",
    "                   [str(c_dft[5][0]),str(c_fft[5][0])], # <-- acá debería haber numeritos :)\n",
    "                   [str(c_dft[6][0]),str(c_fft[6][0])], # <-- acá debería haber numeritos :)\n",
    "                   [str(c_dft[7][0]),str(c_fft[7][0])] # <-- acá debería haber numeritos :)\n",
    "                 ]\n",
    "\n",
    "\n",
    "df = DataFrame(resultados,columns=['tiempo transcurrido (s)',' '],\n",
    "               index=['Tamaño de la señal N', \n",
    "                      16, \n",
    "                      32, \n",
    "                      64, \n",
    "                      128,\n",
    "                      256,\n",
    "                      512,\n",
    "                      1024,\n",
    "                      2048\n",
    "                     ])\n",
    "HTML(df.to_html())\n"
   ]
  },
  {
   "cell_type": "markdown",
   "metadata": {},
   "source": [
    "<div class=\"alert alert-block alert-info\">\n",
    "<b>3.a)</b> Verifique el efecto del leakage para una senoidal de $f_0 = f_S/4 + f_D$ siendo $f_D = (0.01,\\, 0.25,\\, 0.5)$, es decir una frecuencia de desintonía respecto al bin $f_S/4$.\n",
    "</div>"
   ]
  },
  {
   "cell_type": "code",
   "execution_count": 13,
   "metadata": {},
   "outputs": [
    {
     "data": {
      "image/png": "[encoded data removed]",
      "text/plain": [
       "<Figure size 432x288 with 1 Axes>"
      ]
     },
     "metadata": {
      "needs_background": "light"
     },
     "output_type": "display_data"
    },
    {
     "data": {
      "image/png": "[encoded data removed]",
      "text/plain": [
       "<Figure size 432x288 with 1 Axes>"
      ]
     },
     "metadata": {
      "needs_background": "light"
     },
     "output_type": "display_data"
    },
    {
     "data": {
      "image/png": "[encoded data removed]",
      "text/plain": [
       "<Figure size 432x288 with 1 Axes>"
      ]
     },
     "metadata": {
      "needs_background": "light"
     },
     "output_type": "display_data"
    },
    {
     "data": {
      "image/png": "[encoded data removed]",
      "text/plain": [
       "<Figure size 432x288 with 1 Axes>"
      ]
     },
     "metadata": {
      "needs_background": "light"
     },
     "output_type": "display_data"
    }
   ],
   "source": [
    "import numpy as np\n",
    "import matplotlib.pyplot as plt\n",
    "import scipy.fftpack\n",
    "\n",
    "plt.close('all')\n",
    "\n",
    "N = 1024                                                # Number of samplepoints\n",
    "Fs = 1024                                                 # sample frequency\n",
    "\n",
    "Fd = np.array([[0.00],[0.01],[0.25],[0.5]])\n",
    "\n",
    "n_parametros = len(Fd)\n",
    "\n",
    "F0 = Fs/4+Fd                                            # Frecuencia de Sen\n",
    "\n",
    "t = np.linspace(0.0,(N-1)/Fs, N)                      # 0 a N paso (N-1)/Fs\n",
    "\n",
    "y = np.sin(F0 * 2.0*np.pi*t)\n",
    "\n",
    "spectrum_abs = (2/N)*np.abs(scipy.fftpack.fft(y))\n",
    "\n",
    "frequency = np.linspace(0.0, Fs/2, N//2)\n",
    "\n",
    "half_spectrum_abs=spectrum_abs[:,:N//2]\n",
    "\n",
    "#fig, ax = plt.subplots()\n",
    "\n",
    "for i in range(n_parametros):\n",
    "    plt.figure(i+1)\n",
    "    plt.stem(frequency, half_spectrum_abs[i])\n",
    "    plt.title('FFT: $F_s/4$ + ' + str(Fd[i][0]) )\n",
    "    plt.xlabel('frecuencia [Hz]')\n",
    "    plt.ylabel('|F(w)|')\n",
    "    plt.show()"
   ]
  },
  {
   "cell_type": "markdown",
   "metadata": {},
   "source": [
    "<div class=\"alert alert-block alert-danger\">\n",
    "<b>¡Atención!:</b> Completá la siguiente tabla. Podés guardar tus resultados en la lista **tus_resultados**.\n",
    "</div>"
   ]
  },
  {
   "cell_type": "code",
   "execution_count": 14,
   "metadata": {},
   "outputs": [
    {
     "data": {
      "text/html": [
       "<table border=\"1\" class=\"dataframe\">\n",
       "  <thead>\n",
       "    <tr style=\"text-align: right;\">\n",
       "      <th></th>\n",
       "      <th>Frecuencia central</th>\n",
       "      <th>Primer adyacente</th>\n",
       "      <th>Resto de frecuencias</th>\n",
       "    </tr>\n",
       "  </thead>\n",
       "  <tbody>\n",
       "    <tr>\n",
       "      <th>$f_0$ \\ expr. matemática</th>\n",
       "      <td>$ \\lvert X(f_0) \\lvert$</td>\n",
       "      <td>$ \\lvert X(f_0+1) \\lvert $</td>\n",
       "      <td>$\\sum_{i=F} \\lvert X(f_i) \\lvert ^2 $</td>\n",
       "    </tr>\n",
       "    <tr>\n",
       "      <th></th>\n",
       "      <td></td>\n",
       "      <td></td>\n",
       "      <td>$F:f \\neq f_0$</td>\n",
       "    </tr>\n",
       "    <tr>\n",
       "      <th>$f_S/4$</th>\n",
       "      <td>1.0</td>\n",
       "      <td>1.020600706953087e-14</td>\n",
       "      <td>6.580375260473893e-13</td>\n",
       "    </tr>\n",
       "    <tr>\n",
       "      <th>$f_S/4+0.01$</th>\n",
       "      <td>0.9998335911423953</td>\n",
       "      <td>0.010101334756021554</td>\n",
       "      <td>0.12724885797618354</td>\n",
       "    </tr>\n",
       "    <tr>\n",
       "      <th>$f_S/4+0.25$</th>\n",
       "      <td>0.8996258710732369</td>\n",
       "      <td>0.3007962417688694</td>\n",
       "      <td>2.814984451282746</td>\n",
       "    </tr>\n",
       "    <tr>\n",
       "      <th>$f_S/4+0.5$</th>\n",
       "      <td>0.6366177749955026</td>\n",
       "      <td>0.636623767140871</td>\n",
       "      <td>4.297337032770551</td>\n",
       "    </tr>\n",
       "  </tbody>\n",
       "</table>"
      ],
      "text/plain": [
       "<IPython.core.display.HTML object>"
      ]
     },
     "execution_count": 14,
     "metadata": {},
     "output_type": "execute_result"
    }
   ],
   "source": [
    "from pandas import DataFrame\n",
    "from IPython.display import HTML\n",
    "\n",
    "#######################################\n",
    "# Tu simulación que genere resultados #\n",
    "#######################################\n",
    "\n",
    "suma = [0,0,0,0]\n",
    "\n",
    "for k in range(n_parametros): \n",
    "    for j in range(N//2):\n",
    "        if j != N//2//2:\n",
    "            suma[k] += half_spectrum_abs[k][j]\n",
    "        \n",
    "    \n",
    "resultados = [ ['$ \\lvert X(f_0) \\lvert$', '$ \\lvert X(f_0+1) \\lvert $', '$\\sum_{i=F} \\lvert X(f_i) \\lvert ^2 $'], \n",
    "                   ['',                        '',                           '$F:f \\neq f_0$'], \n",
    "                  [str(half_spectrum_abs[0][N//2//2]), str(half_spectrum_abs[0][N//2//2+1]), str(suma[0])],\n",
    "                  [str(half_spectrum_abs[1][N//2//2]), str(half_spectrum_abs[1][N//2//2+1]), str(suma[1])],\n",
    "                  [str(half_spectrum_abs[2][N//2//2]), str(half_spectrum_abs[2][N//2//2+1]), str(suma[2])], \n",
    "                  [str(half_spectrum_abs[3][N//2//2]), str(half_spectrum_abs[3][N//2//2+1]), str(suma[3])]  \n",
    "                 ]\n",
    "\n",
    "df = DataFrame(resultados, columns=['Frecuencia central', 'Primer adyacente', 'Resto de frecuencias'],\n",
    "               index=['$f_0$ \\ expr. matemática', \n",
    "                      '', \n",
    "                      '$f_S/4$', \n",
    "                      '$f_S/4+0.01$', \n",
    "                      '$f_S/4+0.25$', \n",
    "                      '$f_S/4+0.5$'])\n",
    "HTML(df.to_html())\n"
   ]
  },
  {
   "cell_type": "markdown",
   "metadata": {},
   "source": [
    "<div class=\"alert alert-block alert-info\">\n",
    "<b>3.b)</b> Verifique qué ocurre si a la señal de $f_0 = f_S/4 + 0.5$ se le agregan ceros para prolongar su duración. Es decir si la señal tiene N muestras, agregue $M_j$ ceros siendo $M_j = ( \\frac{N}{10},\\, N,\\, 10N)$.\n",
    "</div>"
   ]
  },
  {
   "cell_type": "code",
   "execution_count": 15,
   "metadata": {},
   "outputs": [
    {
     "data": {
      "image/png": "[encoded data removed]",
      "text/plain": [
       "<Figure size 432x288 with 1 Axes>"
      ]
     },
     "metadata": {
      "needs_background": "light"
     },
     "output_type": "display_data"
    }
   ],
   "source": [
    "signal = np.pad(y[3,:],(N//10,N*10),'constant') \n",
    "\n",
    "M = N//10 + N + 10*N\n",
    "\n",
    "spectrum_signal = (2/M)*np.abs(scipy.fftpack.fft(signal))\n",
    "\n",
    "half_spectrum_signal=spectrum_signal[:M//2]\n",
    "\n",
    "frequency_signal = np.linspace(0.0, Fs/2, M//2)\n",
    "\n",
    "plt.figure(n_parametros+1)\n",
    "plt.stem(frequency_signal, half_spectrum_signal)\n",
    "plt.title('FFT: $F_s/4$ + 0.5 \"diluido\" ' )\n",
    "plt.xlabel('frecuencia [Hz]')\n",
    "plt.ylabel('|F(w)|')\n",
    "plt.show()"
   ]
  },
  {
   "cell_type": "markdown",
   "metadata": {},
   "source": [
    "**3.c)** ¿Ha variado la resolución espectral en los casos de 3.b?"
   ]
  },
  {
   "cell_type": "markdown",
   "metadata": {},
   "source": [
    "<div class=\"alert alert-block alert-warning\">\n",
    "<b>Respuesta:</b> Si, siendo la resolución espectral Fs/#Muestras, ahora se tiene M muestras con $M = N*(1+10+1/10) \\sim 11*N >> N$ y eso hace que la resolución espectral sea mucho menor.\n",
    "</div>"
   ]
  },
  {
   "cell_type": "markdown",
   "metadata": {},
   "source": [
    "**3.d)** ¿Cuál es el efecto que se produce en cada caso? Esta técnica se conoce como Zero padding."
   ]
  },
  {
   "cell_type": "markdown",
   "metadata": {},
   "source": [
    "<div class=\"alert alert-block alert-warning\">\n",
    "<b>Respuesta:</b> Pueden apreciarse una mayor cantidad de armonicos desplazados de la frecuencia F0 al tener una mayor resolución en frecuencia.\n",
    "</div>"
   ]
  },
  {
   "cell_type": "code",
   "execution_count": 16,
   "metadata": {},
   "outputs": [
    {
     "data": {
      "image/png": "[encoded data removed]",
      "text/plain": [
       "<Figure size 432x288 with 1 Axes>"
      ]
     },
     "metadata": {
      "needs_background": "light"
     },
     "output_type": "display_data"
    },
    {
     "data": {
      "image/png": "[encoded data removed]",
      "text/plain": [
       "<Figure size 432x288 with 1 Axes>"
      ]
     },
     "metadata": {
      "needs_background": "light"
     },
     "output_type": "display_data"
    },
    {
     "data": {
      "image/png": "[encoded data removed]",
      "text/plain": [
       "<Figure size 432x288 with 1 Axes>"
      ]
     },
     "metadata": {
      "needs_background": "light"
     },
     "output_type": "display_data"
    },
    {
     "data": {
      "image/png": "[encoded data removed]",
      "text/plain": [
       "<Figure size 432x288 with 1 Axes>"
      ]
     },
     "metadata": {
      "needs_background": "light"
     },
     "output_type": "display_data"
    }
   ],
   "source": [
    "M = N//10 + N + N*10\n",
    "\n",
    "for k in range(n_parametros): \n",
    "    signal = np.pad(y[k,:],(N//10,10*N),'constant') \n",
    "    spectrum_signal = (2/M)*np.abs(scipy.fftpack.fft(signal))\n",
    "\n",
    "    half_spectrum_signal=spectrum_signal[:M//2]\n",
    "\n",
    "    frequency_signal = np.linspace(0.0, Fs/2, M//2)\n",
    "\n",
    "    plt.figure(n_parametros+k+1)\n",
    "    plt.stem(frequency_signal, half_spectrum_signal)\n",
    "    plt.title('FFT: $F_s/4$ + ' + str(Fd[k][0]) + ' \"Diluido\" ')\n",
    "    plt.xlabel('frecuencia [Hz]')\n",
    "    plt.ylabel('|F(w)|')\n",
    "    plt.show()"
   ]
  },
  {
   "cell_type": "markdown",
   "metadata": {},
   "source": [
    "**3.e)** Analice cuál es la frecuencia  $\\hat{f}_0 = \\mathop{arg\\ max}_f \\{\\lvert X(f) \\rvert \\}$ a la que ocurre el máximo del espectro y en cuánto difiere de $f_0$ en términos porcentuales."
   ]
  },
  {
   "cell_type": "code",
   "execution_count": 17,
   "metadata": {},
   "outputs": [],
   "source": [
    "#%%\n",
    "def estimar_fundamental(spectrum):\n",
    "      \n",
    "    n =  len(spectrum)\n",
    "    \n",
    "    r = np.zeros((n,2))\n",
    "    v = np.zeros(n)\n",
    "    \n",
    "    for k in range(n):\n",
    "       m = max(spectrum[k,:])\n",
    "       r[k,:] = [i for i, j in enumerate(spectrum[k,:]) if j == m]\n",
    "    \n",
    "    for k in range(n):\n",
    "        v[k] = (r[k,0]+r[k,1])/2\n",
    "    \n",
    "    return v"
   ]
  },
  {
   "cell_type": "code",
   "execution_count": 18,
   "metadata": {},
   "outputs": [],
   "source": [
    "zeros = np.array([0,N//10,N,10*N])\n",
    "L = len(zeros)\n",
    "\n",
    "estimate = np.zeros((n_parametros,L))\n",
    "\n",
    "\n",
    "for j in range(L):\n",
    "    M = 2*zeros[j]+N\n",
    "    signal = np.zeros((n_parametros,M))\n",
    "    spectrum_signal = np.zeros((n_parametros,M))\n",
    "    half_spectrum_signal = np.zeros((n_parametros,M//2))\n",
    "        \n",
    "    for i in range(n_parametros):    \n",
    "        \n",
    "        signal[i,:] = np.pad(y[i,:],(zeros[j],zeros[j]),'constant') \n",
    "     \n",
    "        spectrum_signal[i,:] = (2/M)*np.abs(scipy.fftpack.fft(signal[i,:]))\n",
    "\n",
    "        half_spectrum_signal[i,:]=spectrum_signal[i,:M//2]\n",
    "    \n",
    "    estimate[j,:] = estimar_fundamental(half_spectrum_signal)\n",
    "\n",
    "\n",
    "freq = np.zeros((n_parametros,L))\n",
    "\n",
    "#%%\n",
    "for j in range(L):\n",
    "    for i in range(n_parametros):\n",
    "        freq[i,j] = estimate[j,i] - zeros[j]//2\n",
    "        \n",
    "\n",
    "percentage = abs(N//4-freq)*100/(N//4)"
   ]
  },
  {
   "cell_type": "code",
   "execution_count": 54,
   "metadata": {},
   "outputs": [
    {
     "data": {
      "text/html": [
       "<table border=\"1\" class=\"dataframe\">\n",
       "  <thead>\n",
       "    <tr style=\"text-align: right;\">\n",
       "      <th></th>\n",
       "      <th>$e_\\%$</th>\n",
       "      <th></th>\n",
       "      <th></th>\n",
       "      <th></th>\n",
       "    </tr>\n",
       "  </thead>\n",
       "  <tbody>\n",
       "    <tr>\n",
       "      <th>Zero Padding</th>\n",
       "      <td>+0.00</td>\n",
       "      <td>+0.01</td>\n",
       "      <td>+0.25</td>\n",
       "      <td>+0.50</td>\n",
       "    </tr>\n",
       "    <tr>\n",
       "      <th>0</th>\n",
       "      <td>0.0</td>\n",
       "      <td>0.0</td>\n",
       "      <td>0.0</td>\n",
       "      <td>0.0</td>\n",
       "    </tr>\n",
       "    <tr>\n",
       "      <th>N/10</th>\n",
       "      <td>0.0</td>\n",
       "      <td>0.0</td>\n",
       "      <td>0.0</td>\n",
       "      <td>0.0</td>\n",
       "    </tr>\n",
       "    <tr>\n",
       "      <th>N</th>\n",
       "      <td>0.0</td>\n",
       "      <td>0.0</td>\n",
       "      <td>0.390625</td>\n",
       "      <td>1.953125</td>\n",
       "    </tr>\n",
       "    <tr>\n",
       "      <th>10N</th>\n",
       "      <td>0.390625</td>\n",
       "      <td>0.390625</td>\n",
       "      <td>0.78125</td>\n",
       "      <td>4.296875</td>\n",
       "    </tr>\n",
       "  </tbody>\n",
       "</table>"
      ],
      "text/plain": [
       "<IPython.core.display.HTML object>"
      ]
     },
     "execution_count": 54,
     "metadata": {},
     "output_type": "execute_result"
    }
   ],
   "source": [
    "#######################################\n",
    "# Tu simulación que genere resultados #\n",
    "#######################################\n",
    "\n",
    "resultados = [ ['+0.00','+0.01','+0.25','+0.50'], \n",
    "                   [str(percentage[0,0]),str(percentage[0,1]),str(percentage[0,2]),str(percentage[0,3])], # <-- acá debería haber numeritos :)\n",
    "                   [str(percentage[1,0]),str(percentage[1,1]),str(percentage[1,2]),str(percentage[1,3])], # <-- acá debería haber numeritos :)\n",
    "                   [str(percentage[2,0]),str(percentage[2,1]),str(percentage[2,2]),str(percentage[2,3])], # <-- acá debería haber numeritos :)\n",
    "                   [str(percentage[3,0]),str(percentage[3,1]),str(percentage[3,2]),str(percentage[3,3])], # <-- acá debería haber numeritos :)\n",
    "                 ]\n",
    "\n",
    "df = DataFrame(resultados,columns=['$e_\\%$',' ',' ',' '],\n",
    "               index=['Zero Padding', \n",
    "                      '0', \n",
    "                      'N/10', \n",
    "                      'N', \n",
    "                      '10N',\n",
    "                     ])\n",
    "\n",
    "HTML(df.to_html())\n"
   ]
  },
  {
   "cell_type": "code",
   "execution_count": null,
   "metadata": {},
   "outputs": [],
   "source": []
  }
 ],
 "metadata": {
  "kernelspec": {
   "display_name": "Python 3",
   "language": "python",
   "name": "python3"
  },
  "language_info": {
   "codemirror_mode": {
    "name": "ipython",
    "version": 3
   },
   "file_extension": ".py",
   "mimetype": "text/x-python",
   "name": "python",
   "nbconvert_exporter": "python",
   "pygments_lexer": "ipython3",
   "version": "3.7.1"
  }
 },
 "nbformat": 4,
 "nbformat_minor": 2
}
